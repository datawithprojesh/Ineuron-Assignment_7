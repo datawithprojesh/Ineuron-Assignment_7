{
 "cells": [
  {
   "cell_type": "markdown",
   "id": "a1a98c07",
   "metadata": {},
   "source": [
    "#### Q.1. Create two int type variables, apply addition, subtraction, division and multiplication sand store the results in variables. Then print the data in the following format by calling the variables"
   ]
  },
  {
   "cell_type": "code",
   "execution_count": 3,
   "id": "7b36263e",
   "metadata": {},
   "outputs": [
    {
     "name": "stdout",
     "output_type": "stream",
     "text": [
      "First variable is 20 & second variable is 10\n",
      "Addition: 20 + 10 = 30\n",
      "Subtraction: 20 - 10 = 10\n",
      "Multiplication: 20 * 10 = 200\n",
      "Division: 20 / 10 = 2.0\n"
     ]
    }
   ],
   "source": [
    "#Step1: Define the variables\n",
    "var1 = 20\n",
    "var2 = 10\n",
    "\n",
    "#step2: Calculations\n",
    "addition = var1 + var2\n",
    "subtraction = var1 - var2\n",
    "multiplication = var1 * var2\n",
    "division = var1 / var2\n",
    "\n",
    "#step3: print the variables\n",
    "print(\"First variable is\", var1, \"& second variable is\", var2)\n",
    "print(\"Addition:\", var1, \"+\", var2, \"=\", addition)\n",
    "print(\"Subtraction:\", var1, \"-\", var2, \"=\", subtraction)\n",
    "print(\"Multiplication:\", var1, \"*\", var2, \"=\", multiplication)\n",
    "print(\"Division:\", var1, \"/\", var2, \"=\", division)"
   ]
  },
  {
   "cell_type": "markdown",
   "id": "b1929213",
   "metadata": {},
   "source": [
    "#### Q.2. What is the difference between the following operators:\n",
    "(i) ‘/’ & ‘//’\n",
    "(ii) ‘**’ & ‘^’"
   ]
  },
  {
   "cell_type": "markdown",
   "id": "31cb16a7",
   "metadata": {},
   "source": [
    "#### Answer:\n",
    "(i) The operators '/' and '//' represent division in Python, but they behave differently:\n",
    "\n",
    "    '/' (forward slash) is the regular division operator. When used between two numbers, it performs floating-point division and returns a floating-point result, even if the result is a whole number.\n",
    "    For example: 7 / 2 = 3.5\n",
    "\n",
    "    '//' (double forward slash) is the floor division operator. It performs integer division and returns the largest whole number that is less than or equal to the division result.\n",
    "    For example: 7 // 2 = 3\n",
    "\n",
    "(ii) The operators '**' and '^' represent exponentiation or raising a number to a power, but they have different meanings:\n",
    "\n",
    "    '**' (double asterisk) is the exponentiation operator in Python. It calculates the power of a number by raising it to the given exponent.\n",
    "    For example: 2 ** 3 = 8\n",
    "\n",
    "    '^' (caret) is not an exponentiation operator in Python. It is commonly used as the XOR (exclusive OR) operator in some programming languages, but not in Python. In Python, the '^' operator is the bitwise XOR operator, which performs a bitwise XOR operation between two integers.\n",
    "    For example: 5 ^ 3 = 6\n",
    "\n",
    "To summarize:\n",
    "\n",
    "    '/' performs floating-point division.\n",
    "    '//' performs integer division (floor division).\n",
    "    '**' performs exponentiation.\n",
    "    '^' is not an exponentiation operator in Python; it is the bitwise XOR operator."
   ]
  },
  {
   "cell_type": "markdown",
   "id": "7a28ed4c",
   "metadata": {},
   "source": [
    "#### Q.3. List the logical operators."
   ]
  },
  {
   "cell_type": "markdown",
   "id": "e98ef93b",
   "metadata": {},
   "source": [
    "#### Answer:\n",
    "There are 3 logical operators in Python:\n",
    "\n",
    "- and: The and operator returns True if both operands are True, and False otherwise.\n",
    "- or: The or operator returns True if at least one of the operands is True, and False if both operands are False.\n",
    "- not: The not operator returns the opposite boolean value of the operand. If the operand is True, it returns False, and if the operand is False, it returns True.\n",
    "\n",
    "These logical operators are used to evaluate and manipulate boolean values (True or False) in Python. They are often used in conditional statements and boolean expressions to make decisions based on the truth values of different conditions."
   ]
  },
  {
   "cell_type": "markdown",
   "id": "ae77fa38",
   "metadata": {},
   "source": [
    "#### Q.4. Explain right shift operator and left shift operator with examples."
   ]
  },
  {
   "cell_type": "markdown",
   "id": "8e019c04",
   "metadata": {},
   "source": [
    "#### Answer: \n",
    "The right shift (>>) and left shift (<<) operators are bitwise shift operators in Python. They are used to shift the bits of a binary number to the right or left, respectively.\n",
    "\n",
    "- The right shift operator (>>) moves the bits of a number to the right by a specified number of positions. It effectively divides the number by 2 raised to the power of the shift amount. The rightmost bits are discarded, and zeros are added on the left side.\n",
    "\n",
    "- The left shift operator (<<) moves the bits of a number to the left by a specified number of positions. It effectively multiplies the number by 2 raised to the power of the shift amount. Zeros are added on the right side, and the leftmost bits are discarded.\n",
    "\n",
    "The right shift and left shift operators can be useful in scenarios that involve bitwise manipulation or optimizing certain computations that are based on powers of 2."
   ]
  },
  {
   "cell_type": "markdown",
   "id": "0f180e67",
   "metadata": {},
   "source": [
    "#### Q.5. Create a list containing int type data of length 15. Then write a code to check if 10 is present in the list or not."
   ]
  },
  {
   "cell_type": "code",
   "execution_count": 4,
   "id": "486a4daf",
   "metadata": {},
   "outputs": [
    {
     "name": "stdout",
     "output_type": "stream",
     "text": [
      "10 is present in the list.\n"
     ]
    }
   ],
   "source": [
    "#step1: Create a list of integers\n",
    "my_list = [3, 7, 2, 9, 1, 6, 4, 8, 5, 10, 12, 15, 11, 13, 14]\n",
    "\n",
    "#step2: Check if 10 is present in the list\n",
    "if 10 in my_list:\n",
    "    print(\"10 is present in the list.\")\n",
    "else:\n",
    "    print(\"10 is not present in the list.\")\n"
   ]
  },
  {
   "cell_type": "code",
   "execution_count": null,
   "id": "b631ce0a",
   "metadata": {},
   "outputs": [],
   "source": []
  }
 ],
 "metadata": {
  "kernelspec": {
   "display_name": "Python 3 (ipykernel)",
   "language": "python",
   "name": "python3"
  },
  "language_info": {
   "codemirror_mode": {
    "name": "ipython",
    "version": 3
   },
   "file_extension": ".py",
   "mimetype": "text/x-python",
   "name": "python",
   "nbconvert_exporter": "python",
   "pygments_lexer": "ipython3",
   "version": "3.9.13"
  }
 },
 "nbformat": 4,
 "nbformat_minor": 5
}
